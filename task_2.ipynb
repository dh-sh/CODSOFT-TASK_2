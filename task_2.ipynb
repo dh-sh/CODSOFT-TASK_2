{
 "cells": [
  {
   "cell_type": "code",
   "execution_count": 15,
   "id": "7a15ae2f",
   "metadata": {},
   "outputs": [],
   "source": [
    "import pandas as pd\n",
    "import numpy as np\n",
    "from sklearn.model_selection import train_test_split\n",
    "from sklearn.preprocessing import OneHotEncoder, StandardScaler"
   ]
  },
  {
   "cell_type": "code",
   "execution_count": 36,
   "id": "f28ab108",
   "metadata": {},
   "outputs": [
    {
     "name": "stdout",
     "output_type": "stream",
     "text": [
      "<class 'pandas.core.frame.DataFrame'>\n",
      "RangeIndex: 15509 entries, 0 to 15508\n",
      "Data columns (total 10 columns):\n",
      " #   Column    Non-Null Count  Dtype  \n",
      "---  ------    --------------  -----  \n",
      " 0   Name      15509 non-null  object \n",
      " 1   Year      14981 non-null  object \n",
      " 2   Duration  7240 non-null   object \n",
      " 3   Genre     13632 non-null  object \n",
      " 4   Rating    7919 non-null   float64\n",
      " 5   Votes     7920 non-null   object \n",
      " 6   Director  14984 non-null  object \n",
      " 7   Actor 1   13892 non-null  object \n",
      " 8   Actor 2   13125 non-null  object \n",
      " 9   Actor 3   12365 non-null  object \n",
      "dtypes: float64(1), object(9)\n",
      "memory usage: 1.2+ MB\n"
     ]
    },
    {
     "data": {
      "text/plain": [
       "(None,\n",
       "                                  Name    Year Duration            Genre  \\\n",
       " 0                                         NaN      NaN            Drama   \n",
       " 1  #Gadhvi (He thought he was Gandhi)  (2019)  109 min            Drama   \n",
       " 2                         #Homecoming  (2021)   90 min   Drama, Musical   \n",
       " 3                             #Yaaram  (2019)  110 min  Comedy, Romance   \n",
       " 4                   ...And Once Again  (2010)  105 min            Drama   \n",
       " \n",
       "    Rating Votes            Director       Actor 1             Actor 2  \\\n",
       " 0     NaN   NaN       J.S. Randhawa      Manmauji              Birbal   \n",
       " 1     7.0     8       Gaurav Bakshi  Rasika Dugal      Vivek Ghamande   \n",
       " 2     NaN   NaN  Soumyajit Majumdar  Sayani Gupta   Plabita Borthakur   \n",
       " 3     4.4    35          Ovais Khan       Prateik          Ishita Raj   \n",
       " 4     NaN   NaN        Amol Palekar  Rajat Kapoor  Rituparna Sengupta   \n",
       " \n",
       "            Actor 3  \n",
       " 0  Rajendra Bhatia  \n",
       " 1    Arvind Jangid  \n",
       " 2       Roy Angana  \n",
       " 3  Siddhant Kapoor  \n",
       " 4      Antara Mali  )"
      ]
     },
     "execution_count": 36,
     "metadata": {},
     "output_type": "execute_result"
    }
   ],
   "source": [
    "file_path = \"C:\\\\Users\\\\Dhanush\\\\Documents\\\\CODSOFT\\\\task 2\\\\IMDb_Movies_India.csv\"\n",
    "df = pd.read_csv(file_path, encoding=\"ISO-8859-1\")\n",
    "\n",
    "df.info(), df.head()"
   ]
  },
  {
   "cell_type": "code",
   "execution_count": 37,
   "id": "529c248f",
   "metadata": {
    "scrolled": true
   },
   "outputs": [
    {
     "name": "stdout",
     "output_type": "stream",
     "text": [
      "   Votes\n",
      "0    0.0\n",
      "1    8.0\n",
      "2    0.0\n",
      "3   35.0\n",
      "4    0.0\n"
     ]
    }
   ],
   "source": [
    "# Converting votes column and removing commas & handle non-numeric values\n",
    "df['Votes'] = pd.to_numeric(df['Votes'].str.replace(',', '', regex=True), errors='coerce')\n",
    "\n",
    "# Drop or fill missing values\n",
    "df['Votes'] = df['Votes'].fillna(0)  # Replace NaN with 0 (or use df.dropna(subset=['Votes']) to remove)\n",
    "\n",
    "print(df[['Votes']].head())  # Verify if conversion is successful\n"
   ]
  },
  {
   "cell_type": "code",
   "execution_count": 38,
   "id": "5360d93a",
   "metadata": {},
   "outputs": [
    {
     "name": "stdout",
     "output_type": "stream",
     "text": [
      "     Year  Duration   Votes\n",
      "1  2019.0     109.0     8.0\n",
      "3  2019.0     110.0    35.0\n",
      "5  1997.0     147.0   827.0\n",
      "6  2005.0     142.0  1086.0\n",
      "8  2012.0      82.0   326.0\n"
     ]
    }
   ],
   "source": [
    "#making sure 'Year' and 'Duration' columns are strings before extracting numbers\n",
    "df['Year'] = df['Year'].astype(str).str.extract('(\\d+)').astype(float)\n",
    "df['Duration'] = df['Duration'].astype(str).str.extract('(\\d+)').astype(float)\n",
    "\n",
    "df['Votes'] = pd.to_numeric(df['Votes'].astype(str).str.replace(',', '', regex=True), errors='coerce')\n",
    "\n",
    "#Drop rows where Rating is missing\n",
    "df = df.dropna(subset=['Rating'])\n",
    "\n",
    "#verifiying the changes\n",
    "print(df[['Year', 'Duration', 'Votes']].head())\n"
   ]
  },
  {
   "cell_type": "code",
   "execution_count": 22,
   "id": "a2b47409",
   "metadata": {},
   "outputs": [
    {
     "name": "stdout",
     "output_type": "stream",
     "text": [
      "   Year  Duration   Votes\n",
      "1  2019     109.0     8.0\n",
      "3  2019     110.0    35.0\n",
      "5  1997     147.0   827.0\n",
      "6  2005     142.0  1086.0\n",
      "8  2012      82.0   326.0\n"
     ]
    }
   ],
   "source": [
    "df['Year'] = df['Year'].astype(str).str.extract('(\\d+)')\n",
    "df['Year'] = pd.to_numeric(df['Year'], errors='coerce')\n",
    "\n",
    "df['Duration'] = df['Duration'].astype(str).str.extract('(\\d+)')\n",
    "df['Duration'] = pd.to_numeric(df['Duration'], errors='coerce')\n",
    "\n",
    "df['Votes'] = pd.to_numeric(df['Votes'].astype(str).str.replace(',', '', regex=True), errors='coerce')\n",
    "\n",
    "df = df.dropna(subset=['Rating'])\n",
    "\n",
    "print(df[['Year', 'Duration', 'Votes']].head())\n"
   ]
  },
  {
   "cell_type": "code",
   "execution_count": 40,
   "id": "ef664242",
   "metadata": {},
   "outputs": [
    {
     "name": "stdout",
     "output_type": "stream",
     "text": [
      "Name         object\n",
      "Year        float64\n",
      "Duration    float64\n",
      "Genre        object\n",
      "Rating      float64\n",
      "Votes       float64\n",
      "Director     object\n",
      "Actor 1      object\n",
      "Actor 2      object\n",
      "Actor 3      object\n",
      "dtype: object\n",
      "   Year  Duration   Votes\n",
      "1  2019     109.0     8.0\n",
      "3  2019     110.0    35.0\n",
      "5  1997     147.0   827.0\n",
      "6  2005     142.0  1086.0\n",
      "8  2012      82.0   326.0\n"
     ]
    }
   ],
   "source": [
    "print(df.dtypes\n",
    "df['Year'] = df['Year'].astype(str).str.extract('(\\d+)')\n",
    "df['Year'] = pd.to_numeric(df['Year'], errors='coerce')\n",
    "\n",
    "df['Duration'] = df['Duration'].astype(str).str.extract('(\\d+)')\n",
    "df['Duration'] = pd.to_numeric(df['Duration'], errors='coerce')\n",
    "\n",
    "df['Votes'] = pd.to_numeric(df['Votes'].astype(str).str.replace(',', '', regex=True), errors='coerce')\n",
    "\n",
    "df = df.dropna(subset=['Rating'])\n",
    "print(df[['Year', 'Duration', 'Votes']].head())\n"
   ]
  },
  {
   "cell_type": "code",
   "execution_count": 42,
   "id": "77ab0b61",
   "metadata": {},
   "outputs": [
    {
     "name": "stdout",
     "output_type": "stream",
     "text": [
      "Name         object\n",
      "Year          int64\n",
      "Duration    float64\n",
      "Genre        object\n",
      "Rating      float64\n",
      "Votes       float64\n",
      "Director     object\n",
      "Actor 1      object\n",
      "Actor 2      object\n",
      "Actor 3      object\n",
      "dtype: object\n",
      "Name         object\n",
      "Year          int64\n",
      "Duration    float64\n",
      "Genre        object\n",
      "Rating      float64\n",
      "Votes       float64\n",
      "Director     object\n",
      "Actor 1      object\n",
      "Actor 2      object\n",
      "Actor 3      object\n",
      "dtype: object\n",
      "                                 Name  Year  Duration  \\\n",
      "1  #Gadhvi (He thought he was Gandhi)  2019     109.0   \n",
      "3                             #Yaaram  2019     110.0   \n",
      "5                ...Aur Pyaar Ho Gaya  1997     147.0   \n",
      "6                           ...Yahaan  2005     142.0   \n",
      "8                  ?: A Question Mark  2012      82.0   \n",
      "\n",
      "                       Genre  Rating   Votes        Director          Actor 1  \\\n",
      "1                      Drama     7.0     8.0   Gaurav Bakshi     Rasika Dugal   \n",
      "3            Comedy, Romance     4.4    35.0      Ovais Khan          Prateik   \n",
      "5     Comedy, Drama, Musical     4.7   827.0    Rahul Rawail       Bobby Deol   \n",
      "6        Drama, Romance, War     7.4  1086.0  Shoojit Sircar  Jimmy Sheirgill   \n",
      "8  Horror, Mystery, Thriller     5.6   326.0   Allyson Patel        Yash Dave   \n",
      "\n",
      "                  Actor 2          Actor 3  \n",
      "1          Vivek Ghamande    Arvind Jangid  \n",
      "3              Ishita Raj  Siddhant Kapoor  \n",
      "5  Aishwarya Rai Bachchan    Shammi Kapoor  \n",
      "6          Minissha Lamba   Yashpal Sharma  \n",
      "8          Muntazir Ahmad     Kiran Bhatia  \n"
     ]
    }
   ],
   "source": [
    "print(df.dtypes)\n",
    "df['Year'] = pd.to_numeric(df['Year'].astype(str).str.extract('(\\d+)')[0], errors='coerce')\n",
    "df['Duration'] = pd.to_numeric(df['Duration'].astype(str).str.extract('(\\d+)')[0], errors='coerce')\n",
    "df['Votes'] = pd.to_numeric(df['Votes'].astype(str).str.replace(',', '', regex=True), errors='coerce')\n",
    "df.dropna(subset=['Rating'], inplace=True)  \n",
    "print(df.dtypes)\n",
    "print(df.head()) \n"
   ]
  },
  {
   "cell_type": "code",
   "execution_count": 43,
   "id": "d3a185b3",
   "metadata": {},
   "outputs": [
    {
     "name": "stdout",
     "output_type": "stream",
     "text": [
      "<class 'pandas.core.frame.DataFrame'>\n",
      "Index: 7919 entries, 1 to 15508\n",
      "Data columns (total 10 columns):\n",
      " #   Column    Non-Null Count  Dtype  \n",
      "---  ------    --------------  -----  \n",
      " 0   Name      7919 non-null   object \n",
      " 1   Year      7919 non-null   int64  \n",
      " 2   Duration  5851 non-null   float64\n",
      " 3   Genre     7817 non-null   object \n",
      " 4   Rating    7919 non-null   float64\n",
      " 5   Votes     7919 non-null   float64\n",
      " 6   Director  7914 non-null   object \n",
      " 7   Actor 1   7794 non-null   object \n",
      " 8   Actor 2   7719 non-null   object \n",
      " 9   Actor 3   7627 non-null   object \n",
      "dtypes: float64(3), int64(1), object(6)\n",
      "memory usage: 680.5+ KB\n"
     ]
    }
   ],
   "source": [
    "df.info()"
   ]
  },
  {
   "cell_type": "code",
   "execution_count": 44,
   "id": "7608152e",
   "metadata": {},
   "outputs": [
    {
     "name": "stdout",
     "output_type": "stream",
     "text": [
      "<class 'pandas.core.frame.DataFrame'>\n",
      "RangeIndex: 7919 entries, 0 to 7918\n",
      "Data columns (total 10 columns):\n",
      " #   Column    Non-Null Count  Dtype  \n",
      "---  ------    --------------  -----  \n",
      " 0   Name      7919 non-null   object \n",
      " 1   Year      7919 non-null   int64  \n",
      " 2   Duration  7919 non-null   float64\n",
      " 3   Genre     7817 non-null   object \n",
      " 4   Rating    7919 non-null   float64\n",
      " 5   Votes     7919 non-null   float64\n",
      " 6   Director  7914 non-null   object \n",
      " 7   Actor 1   7794 non-null   object \n",
      " 8   Actor 2   7719 non-null   object \n",
      " 9   Actor 3   7627 non-null   object \n",
      "dtypes: float64(3), int64(1), object(6)\n",
      "memory usage: 618.8+ KB\n",
      "None\n",
      "                                 Name  Year  Duration  \\\n",
      "0  #Gadhvi (He thought he was Gandhi)  2019     109.0   \n",
      "1                             #Yaaram  2019     110.0   \n",
      "2                ...Aur Pyaar Ho Gaya  1997     147.0   \n",
      "3                           ...Yahaan  2005     142.0   \n",
      "4                  ?: A Question Mark  2012      82.0   \n",
      "\n",
      "                       Genre  Rating   Votes        Director          Actor 1  \\\n",
      "0                      Drama     7.0     8.0   Gaurav Bakshi     Rasika Dugal   \n",
      "1            Comedy, Romance     4.4    35.0      Ovais Khan          Prateik   \n",
      "2     Comedy, Drama, Musical     4.7   827.0    Rahul Rawail       Bobby Deol   \n",
      "3        Drama, Romance, War     7.4  1086.0  Shoojit Sircar  Jimmy Sheirgill   \n",
      "4  Horror, Mystery, Thriller     5.6   326.0   Allyson Patel        Yash Dave   \n",
      "\n",
      "                  Actor 2          Actor 3  \n",
      "0          Vivek Ghamande    Arvind Jangid  \n",
      "1              Ishita Raj  Siddhant Kapoor  \n",
      "2  Aishwarya Rai Bachchan    Shammi Kapoor  \n",
      "3          Minissha Lamba   Yashpal Sharma  \n",
      "4          Muntazir Ahmad     Kiran Bhatia  \n"
     ]
    }
   ],
   "source": [
    "# Ensure 'Year' is numeric \n",
    "df['Year'] = pd.to_numeric(df['Year'].astype(str).str.extract('(\\d+)')[0], errors='coerce')\n",
    "\n",
    "# Ensure 'Duration' is numeric\n",
    "df['Duration'] = pd.to_numeric(df['Duration'].astype(str).str.extract('(\\d+)')[0], errors='coerce')\n",
    "\n",
    "# Convert 'Votes' to numeric andremoving commas and handle errors\n",
    "df['Votes'] = pd.to_numeric(df['Votes'].astype(str).str.replace(',', '', regex=True), errors='coerce')\n",
    "\n",
    "# Droping rows where 'Rating' is missing\n",
    "df.dropna(subset=['Rating'], inplace=True)\n",
    "\n",
    "# Handle missing values in 'Duration'\n",
    "df['Duration'].fillna(df['Duration'].median(), inplace=True)  # Fill with median\n",
    "\n",
    "# Droping any remaining missing values in essential columns\n",
    "df.dropna(subset=['Year', 'Duration', 'Votes'], inplace=True)\n",
    "\n",
    "\n",
    "df.reset_index(drop=True, inplace=True)\n",
    "\n",
    "#leaned dataset\n",
    "print(df.info())\n",
    "print(df.head())\n"
   ]
  },
  {
   "cell_type": "code",
   "execution_count": 45,
   "id": "6171a1f0",
   "metadata": {},
   "outputs": [
    {
     "name": "stdout",
     "output_type": "stream",
     "text": [
      "Index(['Name', 'Year', 'Duration', 'Genre', 'Rating', 'Votes', 'Director',\n",
      "       'Actor 1', 'Actor 2', 'Actor 3'],\n",
      "      dtype='object')\n"
     ]
    }
   ],
   "source": [
    "print(df.columns)\n",
    "df.columns = df.columns.str.strip()"
   ]
  },
  {
   "cell_type": "code",
   "execution_count": 46,
   "id": "9b3f3120",
   "metadata": {},
   "outputs": [
    {
     "name": "stdout",
     "output_type": "stream",
     "text": [
      "Genre column exists\n"
     ]
    }
   ],
   "source": [
    "'''if 'Genre' in df.columns:\n",
    "    print(\"Genre column exists\")\n",
    "else:\n",
    "    print(\"Genre column is missing\")\n",
    "'''"
   ]
  },
  {
   "cell_type": "code",
   "execution_count": 47,
   "id": "73a47b78",
   "metadata": {},
   "outputs": [],
   "source": [
    "from sklearn.preprocessing import LabelEncoder\n",
    "\n",
    "#categorical columns\n",
    "categorical_cols = ['Genre', 'Director', 'Actor 1', 'Actor 2', 'Actor 3']\n",
    "\n",
    "#Converting NaN values to string and applying Label Encoding\n",
    "for col in categorical_cols:\n",
    "    df[col] = df[col].astype(str)  # Convert NaN to \"Unknown\" before encoding\n",
    "    df[col] = LabelEncoder().fit_transform(df[col])\n"
   ]
  },
  {
   "cell_type": "code",
   "execution_count": 49,
   "id": "51bfbb4f",
   "metadata": {},
   "outputs": [
    {
     "name": "stdout",
     "output_type": "stream",
     "text": [
      "(6335, 8) (1584, 8) (6335,) (1584,)\n"
     ]
    }
   ],
   "source": [
    "#Defining input features (X) and target variable (y)\n",
    "X = df.drop(columns=['Rating', 'Name'])  # Drop \"Name\" since it's not useful\n",
    "y = df['Rating']\n",
    "\n",
    "#Spliting the dataset (80% training, 20% testing)\n",
    "X_train, X_test, y_train, y_test = train_test_split(X, y, test_size=0.2, random_state=42)\n",
    "\n",
    "#Verify shape\n",
    "print(X_train.shape, X_test.shape, y_train.shape, y_test.shape)\n"
   ]
  },
  {
   "cell_type": "code",
   "execution_count": 50,
   "id": "6f1c9b8d",
   "metadata": {},
   "outputs": [
    {
     "name": "stdout",
     "output_type": "stream",
     "text": [
      "Mean Absolute Error: 0.8283\n",
      "Mean Squared Error: 1.2042\n",
      "R² Score: 0.3523\n"
     ]
    }
   ],
   "source": [
    "from sklearn.ensemble import RandomForestRegressor\n",
    "from sklearn.metrics import mean_absolute_error, mean_squared_error, r2_score\n",
    "\n",
    "#starting the Random Forest model\n",
    "rf_model = RandomForestRegressor(n_estimators=100, random_state=42)\n",
    "\n",
    "#Training the model\n",
    "rf_model.fit(X_train, y_train)\n",
    "\n",
    "#Making predictions\n",
    "y_pred = rf_model.predict(X_test)\n",
    "\n",
    "#Evaluate the model\n",
    "mae = mean_absolute_error(y_test, y_pred)\n",
    "mse = mean_squared_error(y_test, y_pred)\n",
    "r2 = r2_score(y_test, y_pred)\n",
    "\n",
    "print(f\"Mean Absolute Error: {mae:.4f}\")\n",
    "print(f\"Mean Squared Error: {mse:.4f}\")\n",
    "print(f\"R² Score: {r2:.4f}\")\n"
   ]
  },
  {
   "cell_type": "code",
   "execution_count": null,
   "id": "6d7b9c01",
   "metadata": {},
   "outputs": [
    {
     "name": "stdout",
     "output_type": "stream",
     "text": [
      "Fitting 3 folds for each of 81 candidates, totalling 243 fits\n"
     ]
    }
   ],
   "source": [
    "from sklearn.model_selection import GridSearchCV\n",
    "\n",
    "#Defining hyperparameters to tune\n",
    "param_grid = {\n",
    "    'n_estimators': [50, 100, 200],\n",
    "    'max_depth': [10, 20, None],\n",
    "    'min_samples_split': [2, 5, 10],\n",
    "    'min_samples_leaf': [1, 2, 4]\n",
    "}\n",
    "\n",
    "#Performing Grid Search\n",
    "grid_search = GridSearchCV(RandomForestRegressor(random_state=42),\n",
    "                           param_grid, cv=3, n_jobs=-1, verbose=2)\n",
    "\n",
    "grid_search.fit(X_train, y_train)\n",
    "\n",
    "\n",
    "best_params = grid_search.best_params_\n",
    "print(\"Best Parameters:\", best_params)\n",
    "\n",
    "#Training the best model\n",
    "best_rf = RandomForestRegressor(**best_params, random_state=42)\n",
    "best_rf.fit(X_train, y_train)\n",
    "\n",
    "#Predict and evaluate\n",
    "y_pred_best = best_rf.predict(X_test)\n",
    "\n",
    "mae_best = mean_absolute_error(y_test, y_pred_best)\n",
    "mse_best = mean_squared_error(y_test, y_pred_best)\n",
    "r2_best = r2_score(y_test, y_pred_best)\n",
    "\n",
    "print(f\"Tuned Model - Mean Absolute Error: {mae_best:.4f}\")\n",
    "print(f\"Tuned Model - Mean Squared Error: {mse_best:.4f}\")\n",
    "print(f\"Tuned Model - R² Score: {r2_best:.4f}\")\n"
   ]
  },
  {
   "cell_type": "code",
   "execution_count": null,
   "id": "6f5859c9",
   "metadata": {},
   "outputs": [],
   "source": []
  }
 ],
 "metadata": {
  "kernelspec": {
   "display_name": "Python 3 (ipykernel)",
   "language": "python",
   "name": "python3"
  },
  "language_info": {
   "codemirror_mode": {
    "name": "ipython",
    "version": 3
   },
   "file_extension": ".py",
   "mimetype": "text/x-python",
   "name": "python",
   "nbconvert_exporter": "python",
   "pygments_lexer": "ipython3",
   "version": "3.11.5"
  }
 },
 "nbformat": 4,
 "nbformat_minor": 5
}
